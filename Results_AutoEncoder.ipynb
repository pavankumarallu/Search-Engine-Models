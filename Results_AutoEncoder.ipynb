{
  "nbformat": 4,
  "nbformat_minor": 0,
  "metadata": {
    "colab": {
      "name": "Untitled15.ipynb",
      "provenance": [],
      "authorship_tag": "ABX9TyNAJLlOk0D2c0/wguG90bB/",
      "include_colab_link": true
    },
    "kernelspec": {
      "name": "python3",
      "display_name": "Python 3"
    },
    "language_info": {
      "name": "python"
    }
  },
  "cells": [
    {
      "cell_type": "markdown",
      "metadata": {
        "id": "view-in-github",
        "colab_type": "text"
      },
      "source": [
        "<a href=\"https://colab.research.google.com/github/pavankumarallu/Search-Engine-Models/blob/main/Results_AutoEncoder.ipynb\" target=\"_parent\"><img src=\"https://colab.research.google.com/assets/colab-badge.svg\" alt=\"Open In Colab\"/></a>"
      ]
    },
    {
      "cell_type": "code",
      "metadata": {
        "id": "9EV9wbgbouTq"
      },
      "source": [
        "from keras.layers import Input, Dense, Conv2D, MaxPooling2D, UpSampling2D, LeakyReLU, BatchNormalization, Conv2DTranspose\n",
        "from keras.models import Model\n",
        "from keras import backend as K\n",
        "from keras.callbacks import ModelCheckpoint, EarlyStopping\n",
        "from keras.models import load_model\n",
        "\n",
        "import numpy as np\n",
        "from PIL import Image\n",
        "import os \n",
        "import matplotlib.pyplot as plt\n",
        "\n",
        "import tensorflow as tf\n",
        "from tensorflow.python.client import device_lib\n",
        "\n",
        "from sklearn.cluster import KMeans\n",
        "from skimage.color import rgb2hed\n",
        "from sklearn.preprocessing import StandardScaler\n",
        "from sklearn.decomposition import PCA\n",
        "from sklearn import metrics\n",
        "import cv2\n",
        "import pickle\n",
        "from keras.models import Sequential"
      ],
      "execution_count": null,
      "outputs": []
    },
    {
      "cell_type": "code",
      "metadata": {
        "colab": {
          "base_uri": "https://localhost:8080/"
        },
        "id": "Cr4ymxy8o7sS",
        "outputId": "f368d4e4-9a5a-45c6-a2b9-8c1662be71fc"
      },
      "source": [
        "from google.colab import drive\n",
        "drive.mount('/content/drive')"
      ],
      "execution_count": null,
      "outputs": [
        {
          "output_type": "stream",
          "name": "stdout",
          "text": [
            "Drive already mounted at /content/drive; to attempt to forcibly remount, call drive.mount(\"/content/drive\", force_remount=True).\n"
          ]
        }
      ]
    },
    {
      "cell_type": "code",
      "metadata": {
        "id": "TzQESdWMo6BD"
      },
      "source": [
        "open_file = open(\"/content/drive/MyDrive/Data_new.pkl\", \"rb\")\n",
        "new_train = pickle.load(open_file)\n",
        "open_file.close()"
      ],
      "execution_count": null,
      "outputs": []
    },
    {
      "cell_type": "code",
      "metadata": {
        "id": "hyJ64UOmpFFt"
      },
      "source": [
        "x_train = np.asarray(new_train)\n",
        "x_train = x_train.astype('float32') / 255."
      ],
      "execution_count": null,
      "outputs": []
    },
    {
      "cell_type": "code",
      "metadata": {
        "id": "aJSNyfh-pFXp"
      },
      "source": [
        "from keras.preprocessing.image import ImageDataGenerator\n",
        "generated_data = ImageDataGenerator(featurewise_center=False, samplewise_center=False, featurewise_std_normalization=False, samplewise_std_normalization=False, zca_whitening=False, rotation_range=0,  width_shift_range=0.1, height_shift_range=0.1, horizontal_flip = True, vertical_flip = False)\n",
        "generated_data.fit(x_train)"
      ],
      "execution_count": null,
      "outputs": []
    },
    {
      "cell_type": "code",
      "metadata": {
        "id": "1WdoywucpFbN"
      },
      "source": [
        "feature_model_1 = tf.keras.models.load_model('/content/drive/MyDrive/Model_final_Dense.h5')"
      ],
      "execution_count": null,
      "outputs": []
    },
    {
      "cell_type": "code",
      "metadata": {
        "id": "06kh8bvXpFeo"
      },
      "source": [
        "intermediate_layer_model = tf.keras.Model(inputs=feature_model_1.input,\n",
        "                                       outputs=feature_model_1.get_layer(\"Feature_Layer\").output)"
      ],
      "execution_count": null,
      "outputs": []
    },
    {
      "cell_type": "code",
      "metadata": {
        "id": "iUJ9cMTnpFiP"
      },
      "source": [
        "intermediate_output = intermediate_layer_model(x_train)"
      ],
      "execution_count": null,
      "outputs": []
    },
    {
      "cell_type": "code",
      "metadata": {
        "id": "VNQByCW9pZeO"
      },
      "source": [
        "train_x = intermediate_output.numpy()\n",
        "E_train_flatten = train_x.reshape((-1, np.prod((8,8,16))))"
      ],
      "execution_count": null,
      "outputs": []
    },
    {
      "cell_type": "code",
      "metadata": {
        "id": "FRYZsuvTssVb"
      },
      "source": [
        "open_file = open(\"/content/drive/MyDrive/E_train_Flatten\", \"wb\")\n",
        "pickle.dump(E_train_flatten, open_file)\n",
        "open_file.close()\n",
        "\n",
        "np.save(\"/content/drive/MyDrive/E_train_Flatten.npy\",E_train_flatten)\n"
      ],
      "execution_count": null,
      "outputs": []
    },
    {
      "cell_type": "code",
      "metadata": {
        "colab": {
          "base_uri": "https://localhost:8080/"
        },
        "id": "_KWhuxtppfpD",
        "outputId": "ffdf5962-cc58-4f69-b4e4-e2d5671697cd"
      },
      "source": [
        "from sklearn.neighbors import NearestNeighbors\n",
        "knn = NearestNeighbors(n_neighbors=10, metric=\"cosine\")\n",
        "knn.fit(E_train_flatten)"
      ],
      "execution_count": null,
      "outputs": [
        {
          "output_type": "execute_result",
          "data": {
            "text/plain": [
              "NearestNeighbors(algorithm='auto', leaf_size=30, metric='cosine',\n",
              "                 metric_params=None, n_jobs=None, n_neighbors=10, p=2,\n",
              "                 radius=1.0)"
            ]
          },
          "metadata": {},
          "execution_count": 15
        }
      ]
    },
    {
      "cell_type": "code",
      "metadata": {
        "colab": {
          "base_uri": "https://localhost:8080/",
          "height": 286
        },
        "id": "a6P7mdpgpkMh",
        "outputId": "c638c4a6-e51f-44fe-9078-22ae2623353c"
      },
      "source": [
        "new_test = []\n",
        "test_img = cv2.imread(\"/content/10.jpg\",cv2.IMREAD_UNCHANGED)\n",
        "test_img = cv2.cvtColor(test_img,cv2.COLOR_BGR2RGB)\n",
        "resized_image = cv2.resize(test_img, (128, 128)) \n",
        "new_test.append(np.asarray( resized_image, dtype=\"uint8\" ))\n",
        "plt.imshow(test_img)"
      ],
      "execution_count": null,
      "outputs": [
        {
          "output_type": "execute_result",
          "data": {
            "text/plain": [
              "<matplotlib.image.AxesImage at 0x7f80ff6a9490>"
            ]
          },
          "metadata": {},
          "execution_count": 16
        },
        {
          "output_type": "display_data",
          "data": {
            "image/png": "[encoded data removed]",
            "text/plain": [
              "<Figure size 432x288 with 1 Axes>"
            ]
          },
          "metadata": {
            "needs_background": "light"
          }
        }
      ]
    },
    {
      "cell_type": "code",
      "metadata": {
        "id": "1FAZavThpz1s"
      },
      "source": [
        "x_test = np.asarray(new_test)\n",
        "x_test = np.asarray(x_test.astype('float32') / 255.)\n",
        "intermediate_output = intermediate_layer_model(x_test)\n",
        "test_x = intermediate_output.numpy()\n",
        "E_test_flatten = test_x.reshape((-1, np.prod(( 8,8,16))))"
      ],
      "execution_count": null,
      "outputs": []
    },
    {
      "cell_type": "code",
      "metadata": {
        "id": "x35_qewGp3IJ"
      },
      "source": [
        "_,indeces = knn.kneighbors(E_test_flatten)"
      ],
      "execution_count": null,
      "outputs": []
    },
    {
      "cell_type": "code",
      "metadata": {
        "colab": {
          "base_uri": "https://localhost:8080/"
        },
        "id": "Q0s_597mp6Om",
        "outputId": "bec52c03-84ce-429a-8491-a74a898ebd23"
      },
      "source": [
        "indeces,_"
      ],
      "execution_count": null,
      "outputs": [
        {
          "output_type": "execute_result",
          "data": {
            "text/plain": [
              "(array([[1002, 1023, 1165, 1020,  316, 1015,  525,  679,  826,   14]]),\n",
              " array([[0.0002681 , 0.00028288, 0.0003041 , 0.00032395, 0.00032818,\n",
              "         0.00032914, 0.00033653, 0.00034308, 0.00035703, 0.00036323]],\n",
              "       dtype=float32))"
            ]
          },
          "metadata": {},
          "execution_count": 19
        }
      ]
    },
    {
      "cell_type": "code",
      "metadata": {
        "colab": {
          "base_uri": "https://localhost:8080/",
          "height": 286
        },
        "id": "mLUsErWCLnec",
        "outputId": "eced621b-668c-4965-8f3c-d85ee13ed56f"
      },
      "source": [
        "plt.imshow(new_train[1165])"
      ],
      "execution_count": null,
      "outputs": [
        {
          "output_type": "execute_result",
          "data": {
            "text/plain": [
              "<matplotlib.image.AxesImage at 0x7f80f54f6b10>"
            ]
          },
          "metadata": {},
          "execution_count": 25
        },
        {
          "output_type": "display_data",
          "data": {
            "image/png": "[encoded data removed]",
            "text/plain": [
              "<Figure size 432x288 with 1 Axes>"
            ]
          },
          "metadata": {
            "needs_background": "light"
          }
        }
      ]
    }
  ]
}